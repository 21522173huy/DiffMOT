{
 "cells": [
  {
   "cell_type": "code",
   "execution_count": 11,
   "metadata": {},
   "outputs": [
    {
     "name": "stdout",
     "output_type": "stream",
     "text": [
      "^C\n"
     ]
    },
    {
     "name": "stdout",
     "output_type": "stream",
     "text": [
      "train\n",
      "MOT17-02-DPM\n",
      "MOT17-02-FRCNN\n",
      "MOT17-02-SDP\n",
      "MOT17-04-DPM\n",
      "MOT17-04-FRCNN\n",
      "MOT17-04-SDP\n",
      "MOT17-05-DPM\n",
      "MOT17-05-FRCNN\n",
      "MOT17-05-SDP\n",
      "MOT17-09-DPM\n",
      "MOT17-09-FRCNN\n",
      "MOT17-09-SDP\n",
      "MOT17-10-DPM\n",
      "MOT17-10-FRCNN\n"
     ]
    },
    {
     "name": "stderr",
     "output_type": "stream",
     "text": [
      "Traceback (most recent call last):\n",
      "  File \"d:\\DiffMOT\\preprocessing.py\", line 78, in <module>\n",
      "    preprocessing_gt(args.seq_root, trainer=trainer)\n",
      "  File \"d:\\DiffMOT\\preprocessing.py\", line 32, in preprocessing_gt\n",
      "    seq_info = open(osp.join(seq_root_tr, seq, 'seqinfo.ini')).read()\n",
      "               ^^^^^^^^^^^^^^^^^^^^^^^^^^^^^^^^^^^^^^^^^^^^^^^\n",
      "FileNotFoundError: [Errno 2] No such file or directory: 'dataset\\\\train\\\\MOT17-10-FRCNN\\\\seqinfo.ini'\n"
     ]
    }
   ],
   "source": [
    "!python preprocessing.py --seq_root dataset --train"
   ]
  },
  {
   "cell_type": "code",
   "execution_count": null,
   "metadata": {},
   "outputs": [],
   "source": []
  }
 ],
 "metadata": {
  "kernelspec": {
   "display_name": "main_env",
   "language": "python",
   "name": "python3"
  },
  "language_info": {
   "codemirror_mode": {
    "name": "ipython",
    "version": 3
   },
   "file_extension": ".py",
   "mimetype": "text/x-python",
   "name": "python",
   "nbconvert_exporter": "python",
   "pygments_lexer": "ipython3",
   "version": "3.11.9"
  }
 },
 "nbformat": 4,
 "nbformat_minor": 2
}
