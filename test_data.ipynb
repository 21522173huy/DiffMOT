{
 "cells": [
  {
   "cell_type": "code",
   "execution_count": 2,
   "metadata": {},
   "outputs": [
    {
     "name": "stdout",
     "output_type": "stream",
     "text": [
      "MOT17-02-DPM\n",
      "MOT17-02-FRCNN\n",
      "MOT17-02-SDP\n",
      "MOT17-04-DPM\n",
      "MOT17-04-FRCNN\n",
      "MOT17-04-SDP\n",
      "MOT17-05-DPM\n",
      "MOT17-05-FRCNN\n",
      "MOT17-05-SDP\n",
      "MOT17-09-DPM\n",
      "MOT17-09-FRCNN\n",
      "MOT17-09-SDP\n",
      "MOT17-10-DPM\n",
      "MOT17-10-FRCNN\n",
      "MOT17-10-SDP\n",
      "MOT17-11-DPM\n",
      "MOT17-11-FRCNN\n",
      "MOT17-11-SDP\n",
      "MOT17-13-DPM\n",
      "MOT17-13-FRCNN\n",
      "MOT17-13-SDP\n",
      "MOT20-01\n",
      "MOT20-02\n",
      "MOT20-03\n",
      "MOT20-05\n"
     ]
    }
   ],
   "source": [
    "!python sports_data_process.py"
   ]
  }
 ],
 "metadata": {
  "kernelspec": {
   "display_name": "main_env",
   "language": "python",
   "name": "python3"
  },
  "language_info": {
   "codemirror_mode": {
    "name": "ipython",
    "version": 3
   },
   "file_extension": ".py",
   "mimetype": "text/x-python",
   "name": "python",
   "nbconvert_exporter": "python",
   "pygments_lexer": "ipython3",
   "version": "3.11.9"
  }
 },
 "nbformat": 4,
 "nbformat_minor": 2
}
