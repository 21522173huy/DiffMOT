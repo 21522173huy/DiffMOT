{
 "cells": [
  {
   "cell_type": "code",
   "execution_count": 17,
   "metadata": {},
   "outputs": [
    {
     "name": "stderr",
     "output_type": "stream",
     "text": [
      "2024-12-25 00:24:13 [INFO]: Config:\n",
      "2024-12-25 00:24:13 [INFO]: {'eps': 0.001, 'eval_mode': False, 'patience': 5, 'delta': 0, 'lr': 0.00025, 'num_layers': 1, 'filters': [16, 32, 64, 128, 256], 'weight': False, 'weight_1': 0.25, 'weight_2': 0.25, 'weight_3': 0.5, 'loss': 'l2', 'data_dir': 'dataset/trackers_gt_t/train', 'diffnet': 'HMINet', 'interval': 5, 'augment': True, 'encoder_dim': 256, 'tf_layer': 3, 'epochs': 800, 'batch_size': 4, 'seed': 123, 'eval_every': 20, 'gpus': [0, 1, 2, 3], 'eval_at': 800, 'det_dir': '/mnt/8T/home/estar/data/DanceTrack/detections/val', 'info_dir': '/mnt/8T/home/estar/data/DanceTrack/val', 'reid_dir': '/home/estar/lwy/DiffMOT/cache/embeddings/', 'save_dir': '/mnt/8T/home/estar/data/DanceTrack/results/val/yolox_m_lt_ddm_1000eps_deeper_800_1rev', 'eval_expname': 'mot_ddm_1000_deeper', 'high_thres': 0.6, 'low_thres': 0.1, 'w_assoc_emb': 2.2, 'aw_param': 1.7, 'preprocess_workers': 16, 'device': 'cuda', 'eval_device': 'None', 'network': 'ReUNet', 'skip_connection': False, 'early_stopping': 'iou', 'exp_name': 'mot', 'dataset': 'mot'}\n",
      "2024-12-25 00:24:13 [INFO]: \n",
      "\n",
      "2024-12-25 00:24:13 [INFO]: Eval on:\n",
      "2024-12-25 00:24:13 [INFO]: mot\n",
      "2024-12-25 00:24:13 [INFO]: \n",
      "\n"
     ]
    },
    {
     "name": "stdout",
     "output_type": "stream",
     "text": [
      "> Directory built!\n",
      "> Model built!\n",
      "Network Version:  ReUNet\n",
      "Network Params: 16172299\n",
      "Dataset: dataset/trackers_gt_t/train\n",
      "================================================================================\n",
      "dataset summary\n",
      "1230449\n",
      "================================================================================\n",
      "len:  1230449\n",
      "================================================================================\n",
      "Training Dataset size:  984359\n",
      "Validation Dataset size:  246090\n",
      "> Optimizer built!\n",
      "> Everything built. Have fun :)\n"
     ]
    }
   ],
   "source": [
    "import argparse\n",
    "import yaml\n",
    "from easydict import EasyDict\n",
    "from diffmot import DiffMOT\n",
    "import torch\n",
    "with open('configs/mot.yaml') as f:\n",
    "    config = yaml.safe_load(f)\n",
    "\n",
    "class Args:\n",
    "    def __init__(self):\n",
    "        self.config = 'configs/mot.yaml'\n",
    "        self.dataset = 'mot'\n",
    "        self.skip_connection = False\n",
    "        self.network = 'ReUNet'\n",
    "        self.filters = [16, 32, 64, 128, 256]\n",
    "        self.num_layers = 1\n",
    "        self.early_stopping = 'iou'\n",
    "        self.patience = 5\n",
    "        self.delta = 0\n",
    "        self.batch_size = 4\n",
    "\n",
    "    def items(self):\n",
    "        return vars(self).items()\n",
    "    \n",
    "config = EasyDict(config)\n",
    "args = Args()\n",
    "\n",
    "if args.network is not None:\n",
    "    config.network = args.network\n",
    "if args.num_layers is not None:\n",
    "    config.num_layers = args.num_layers\n",
    "if args.filters is not None:\n",
    "    config.filters = args.filters\n",
    "if args.skip_connection is not None:\n",
    "    config.skip_connection = args.skip_connection\n",
    "if args.early_stopping is not None:\n",
    "    config.early_stopping = args.early_stopping\n",
    "config.patience = args.patience\n",
    "config.delta = args.delta\n",
    "config.batch_size = args.batch_size\n",
    "\n",
    "config[\"exp_name\"] = args.config.split(\"/\")[-1].split(\".\")[0]\n",
    "config[\"dataset\"] = args.dataset\n",
    "config = EasyDict(config)\n",
    "agent = DiffMOT(config)\n",
    "batch = next(iter(agent.train_dataloader))"
   ]
  },
  {
   "cell_type": "code",
   "execution_count": 27,
   "metadata": {},
   "outputs": [
    {
     "data": {
      "text/plain": [
       "tensor(0.0944, grad_fn=<MeanBackward0>)"
      ]
     },
     "execution_count": 27,
     "metadata": {},
     "output_type": "execute_result"
    }
   ],
   "source": [
    "import torch\n",
    "from utils import calculate_iou, calculate_ade, original_shape\n",
    "\n",
    "num_batches = args.batch_size\n",
    "total_loss = 0\n",
    "total_iou = 0\n",
    "total_ade = 0\n",
    "\n",
    "for k in batch:\n",
    "    batch[k] = batch[k].to(device=agent.device, non_blocking=True)\n",
    "\n",
    "loss = agent.model(batch)\n",
    "loss"
   ]
  },
  {
   "cell_type": "code",
   "execution_count": 25,
   "metadata": {},
   "outputs": [
    {
     "data": {
      "text/plain": [
       "{'mean_loss': 0.007626724429428577,\n",
       " 'mean_iou': 0.0,\n",
       " 'mean_ade': 61.0211067199707}"
      ]
     },
     "execution_count": 25,
     "metadata": {},
     "output_type": "execute_result"
    }
   ],
   "source": [
    "loss = loss.mean()\n",
    "total_loss += loss.item()\n",
    "\n",
    "# MeanIoU and MeanADE\n",
    "with torch.no_grad():\n",
    "    predictions = agent.generate(conds = batch['condition'], sample = 1, bestof =  True, flexibility=0.0, ret_traj=False) # Batch_size, 4\n",
    "\n",
    "dets = batch['condition'][:, 4, :4] # Batch_size, 4\n",
    "targets = batch['cur_bbox'] # Batch_size, 4\n",
    "width = batch['width'] # Batch_size\n",
    "height = batch['height'] # Batch_size\n",
    "\n",
    "predictions = predictions + dets # Batch_size, 4\n",
    "original_preds = original_shape(predictions, width, height) # Batch_size, 4\n",
    "original_gts = original_shape(targets, width, height) # Batch_size, 4\n",
    "\n",
    "total_iou += calculate_iou(original_preds, original_gts)\n",
    "total_ade += calculate_ade(original_preds, original_gts)\n",
    "\n",
    "mean_loss = total_loss / num_batches\n",
    "mean_iou = total_iou / num_batches\n",
    "mean_ade = total_ade / num_batches\n",
    "\n",
    "result = {\n",
    "    'mean_loss': mean_loss,\n",
    "    'mean_iou': mean_iou,\n",
    "    'mean_ade': mean_ade\n",
    "}\n",
    "\n",
    "result"
   ]
  },
  {
   "cell_type": "markdown",
   "metadata": {},
   "source": [
    "# Test Model"
   ]
  },
  {
   "cell_type": "code",
   "execution_count": 1,
   "metadata": {},
   "outputs": [],
   "source": [
    "import os\n",
    "import glob"
   ]
  },
  {
   "cell_type": "code",
   "execution_count": 12,
   "metadata": {},
   "outputs": [
    {
     "name": "stdout",
     "output_type": "stream",
     "text": [
      "dataset\\trackers_gt_t\\train\\MOT17-02-DPM\\img1\\000080.txt\n",
      "dataset\\trackers_gt_t\\train\\MOT17-02-DPM\\img1\\000081.txt\n",
      "dataset\\trackers_gt_t\\train\\MOT17-02-DPM\\img1\\000082.txt\n",
      "dataset\\trackers_gt_t\\train\\MOT17-02-DPM\\img1\\000083.txt\n",
      "dataset\\trackers_gt_t\\train\\MOT17-05-DPM\\img1\\000010.txt\n",
      "dataset\\trackers_gt_t\\train\\MOT17-05-DPM\\img1\\000018.txt\n",
      "dataset\\trackers_gt_t\\train\\MOT17-05-DPM\\img1\\000021.txt\n",
      "dataset\\trackers_gt_t\\train\\MOT17-05-DPM\\img1\\000032.txt\n",
      "dataset\\trackers_gt_t\\train\\MOT17-05-DPM\\img1\\000037.txt\n",
      "dataset\\trackers_gt_t\\train\\MOT17-05-DPM\\img1\\000040.txt\n",
      "dataset\\trackers_gt_t\\train\\MOT17-05-DPM\\img1\\000064.txt\n",
      "dataset\\trackers_gt_t\\train\\MOT17-05-DPM\\img1\\000079.txt\n",
      "dataset\\trackers_gt_t\\train\\MOT17-05-DPM\\img1\\000148.txt\n",
      "dataset\\trackers_gt_t\\train\\MOT17-05-DPM\\img1\\000149.txt\n",
      "dataset\\trackers_gt_t\\train\\MOT17-05-DPM\\img1\\000151.txt\n",
      "dataset\\trackers_gt_t\\train\\MOT17-05-DPM\\img1\\000152.txt\n",
      "dataset\\trackers_gt_t\\train\\MOT17-05-DPM\\img1\\000154.txt\n",
      "dataset\\trackers_gt_t\\train\\MOT17-05-DPM\\img1\\000156.txt\n",
      "dataset\\trackers_gt_t\\train\\MOT17-11-DPM\\img1\\000065.txt\n",
      "dataset\\trackers_gt_t\\train\\MOT17-11-DPM\\img1\\000090.txt\n",
      "dataset\\trackers_gt_t\\train\\MOT17-11-DPM\\img1\\000091.txt\n",
      "dataset\\trackers_gt_t\\train\\MOT17-13-DPM\\img1\\000008.txt\n",
      "dataset\\trackers_gt_t\\train\\MOT17-13-DPM\\img1\\000031.txt\n",
      "dataset\\trackers_gt_t\\train\\MOT17-13-DPM\\img1\\000134.txt\n",
      "dataset\\trackers_gt_t\\train\\MOT20-03\\img1\\000109.txt\n",
      "dataset\\trackers_gt_t\\train\\MOT20-03\\img1\\000185.txt\n",
      "dataset\\trackers_gt_t\\train\\MOT20-03\\img1\\000530.txt\n",
      "dataset\\trackers_gt_t\\train\\MOT20-03\\img1\\000539.txt\n",
      "dataset\\trackers_gt_t\\train\\MOT20-03\\img1\\000572.txt\n",
      "dataset\\trackers_gt_t\\train\\MOT20-03\\img1\\000574.txt\n",
      "dataset\\trackers_gt_t\\train\\MOT20-03\\img1\\000720.txt\n",
      "dataset\\trackers_gt_t\\train\\MOT20-03\\img1\\000729.txt\n",
      "dataset\\trackers_gt_t\\train\\MOT20-05\\img1\\000263.txt\n",
      "dataset\\trackers_gt_t\\train\\MOT20-05\\img1\\000270.txt\n",
      "dataset\\trackers_gt_t\\train\\MOT20-05\\img1\\000288.txt\n",
      "dataset\\trackers_gt_t\\train\\MOT20-05\\img1\\000304.txt\n",
      "dataset\\trackers_gt_t\\train\\MOT20-05\\img1\\000688.txt\n",
      "dataset\\trackers_gt_t\\train\\MOT20-05\\img1\\000694.txt\n",
      "dataset\\trackers_gt_t\\train\\MOT20-05\\img1\\000696.txt\n",
      "dataset\\trackers_gt_t\\train\\MOT20-05\\img1\\000698.txt\n",
      "dataset\\trackers_gt_t\\train\\MOT20-05\\img1\\000704.txt\n",
      "dataset\\trackers_gt_t\\train\\MOT20-05\\img1\\001023.txt\n",
      "dataset\\trackers_gt_t\\train\\MOT20-05\\img1\\001190.txt\n",
      "dataset\\trackers_gt_t\\train\\MOT20-05\\img1\\001204.txt\n"
     ]
    }
   ],
   "source": [
    "import os\n",
    "import glob\n",
    "\n",
    "def find_files_with_fewer_than_6_lines(directory):\n",
    "    # Get all .txt files in the specified directory and its subdirectories\n",
    "    txt_files = glob.glob(os.path.join(directory, '**', '*.txt'), recursive=True)\n",
    "    \n",
    "    # List to store files with fewer than 6 lines\n",
    "    files_with_fewer_lines = []\n",
    "\n",
    "    for txt_file in txt_files:\n",
    "        txt_file = os.path.normpath(txt_file)\n",
    "        with open(txt_file, 'r') as file:\n",
    "            lines = file.readlines()\n",
    "            if len(lines) < 6:\n",
    "                files_with_fewer_lines.append(txt_file)\n",
    "\n",
    "    return files_with_fewer_lines\n",
    "\n",
    "# Specify the directory\n",
    "directory = 'dataset/trackers_gt_t/train/'\n",
    "\n",
    "# Find files with fewer than 6 lines\n",
    "files_with_fewer_lines = find_files_with_fewer_than_6_lines(directory)\n",
    "\n",
    "# Print the results\n",
    "for file in files_with_fewer_lines:\n",
    "    print(file)"
   ]
  },
  {
   "cell_type": "code",
   "execution_count": 4,
   "metadata": {},
   "outputs": [
    {
     "data": {
      "text/plain": [
       "'dataset\\\\trackers_gt_t\\\\train\\\\MOT17-02-DPM\\\\img1\\\\000002.txt'"
      ]
     },
     "execution_count": 4,
     "metadata": {},
     "output_type": "execute_result"
    }
   ],
   "source": [
    "txt_files = glob.glob(os.path.join(directory, '**', '*.txt'), recursive=True)\n",
    "os.path.normpath(txt_files[0])"
   ]
  },
  {
   "cell_type": "code",
   "execution_count": 6,
   "metadata": {},
   "outputs": [
    {
     "data": {
      "text/plain": [
       "'dataset\\\\trackers_gt_t\\\\train\\\\MOT17-02-DPM\\\\img1\\\\000002.txt'"
      ]
     },
     "execution_count": 6,
     "metadata": {},
     "output_type": "execute_result"
    }
   ],
   "source": [
    "txt_file = os.path.normpath(txt_files[0])\n",
    "txt_file"
   ]
  },
  {
   "cell_type": "code",
   "execution_count": 7,
   "metadata": {},
   "outputs": [],
   "source": [
    "with open(os.path.normpath(txt_file), 'r') as file:\n",
    "    lines = file.readlines()"
   ]
  },
  {
   "cell_type": "code",
   "execution_count": 10,
   "metadata": {},
   "outputs": [
    {
     "data": {
      "text/plain": [
       "56"
      ]
     },
     "execution_count": 10,
     "metadata": {},
     "output_type": "execute_result"
    }
   ],
   "source": [
    "len(lines)"
   ]
  },
  {
   "cell_type": "code",
   "execution_count": 2,
   "metadata": {},
   "outputs": [],
   "source": [
    "train_dataloader = agent.train_dataloader\n",
    "sample = next(iter(train_dataloader))"
   ]
  },
  {
   "cell_type": "code",
   "execution_count": 3,
   "metadata": {},
   "outputs": [
    {
     "data": {
      "text/plain": [
       "dict_keys(['cur_gt', 'cur_bbox', 'condition', 'delta_bbox', 'width', 'height'])"
      ]
     },
     "execution_count": 3,
     "metadata": {},
     "output_type": "execute_result"
    }
   ],
   "source": [
    "sample.keys()"
   ]
  },
  {
   "cell_type": "code",
   "execution_count": 4,
   "metadata": {},
   "outputs": [
    {
     "data": {
      "text/plain": [
       "torch.Size([2048, 4])"
      ]
     },
     "execution_count": 4,
     "metadata": {},
     "output_type": "execute_result"
    }
   ],
   "source": [
    "sample['delta_bbox'].shape"
   ]
  },
  {
   "cell_type": "code",
   "execution_count": 7,
   "metadata": {},
   "outputs": [],
   "source": [
    "import torch\n",
    "\n",
    "batch = {\n",
    "    'condition' : torch.rand(16, 5, 8),\n",
    "    'delta_bbox' : torch.rand(16, 4),\n",
    "}"
   ]
  },
  {
   "cell_type": "code",
   "execution_count": 5,
   "metadata": {},
   "outputs": [],
   "source": [
    "model = agent.model"
   ]
  },
  {
   "cell_type": "code",
   "execution_count": 8,
   "metadata": {},
   "outputs": [],
   "source": [
    "loss = model(batch)"
   ]
  },
  {
   "cell_type": "code",
   "execution_count": 9,
   "metadata": {},
   "outputs": [
    {
     "data": {
      "text/plain": [
       "tensor(1.3105, grad_fn=<MeanBackward0>)"
      ]
     },
     "execution_count": 9,
     "metadata": {},
     "output_type": "execute_result"
    }
   ],
   "source": [
    "loss"
   ]
  },
  {
   "cell_type": "code",
   "execution_count": 18,
   "metadata": {},
   "outputs": [
    {
     "data": {
      "text/plain": [
       "[16, 64, 128, 256]"
      ]
     },
     "execution_count": 18,
     "metadata": {},
     "output_type": "execute_result"
    }
   ],
   "source": [
    "model.diffusion.net.filters"
   ]
  },
  {
   "cell_type": "code",
   "execution_count": 16,
   "metadata": {},
   "outputs": [
    {
     "data": {
      "text/plain": [
       "New_ReUNet(\n",
       "  (shared_ctx_mlp): MLP(\n",
       "    (layer_norm): LayerNorm((259,), eps=1e-05, elementwise_affine=True)\n",
       "    (dropout): Dropout(p=0.1, inplace=False)\n",
       "    (dense_layer): Sequential(\n",
       "      (0): Linear(in_features=259, out_features=518, bias=True)\n",
       "      (1): ReLU()\n",
       "      (2): Dropout(p=0.1, inplace=False)\n",
       "      (3): Linear(in_features=518, out_features=259, bias=True)\n",
       "      (4): ReLU()\n",
       "      (5): Dropout(p=0.1, inplace=False)\n",
       "      (6): Linear(in_features=259, out_features=256, bias=True)\n",
       "    )\n",
       "  )\n",
       "  (up_blocks): ModuleList(\n",
       "    (0): LSTMAoA(\n",
       "      (out_dropout): Dropout(p=0.1, inplace=False)\n",
       "      (norm): LayerNorm((260,), eps=1e-05, elementwise_affine=True)\n",
       "      (att_lstm): LSTM(260, 256, num_layers=2)\n",
       "      (multi_head): MultiheadAttention(\n",
       "        (out_proj): NonDynamicallyQuantizableLinear(in_features=256, out_features=256, bias=True)\n",
       "      )\n",
       "      (aoa_layer): Sequential(\n",
       "        (0): Linear(in_features=512, out_features=512, bias=True)\n",
       "        (1): GLU(dim=-1)\n",
       "      )\n",
       "      (residual_fn): ResidualConnection(\n",
       "        (dropout): Dropout(p=0.1, inplace=False)\n",
       "        (norm): LayerNorm((256,), eps=1e-05, elementwise_affine=True)\n",
       "      )\n",
       "      (out_linear): Linear(in_features=256, out_features=16, bias=True)\n",
       "    )\n",
       "    (1): LSTMAoA(\n",
       "      (out_dropout): Dropout(p=0.1, inplace=False)\n",
       "      (norm): LayerNorm((272,), eps=1e-05, elementwise_affine=True)\n",
       "      (att_lstm): LSTM(272, 256, num_layers=2)\n",
       "      (multi_head): MultiheadAttention(\n",
       "        (out_proj): NonDynamicallyQuantizableLinear(in_features=256, out_features=256, bias=True)\n",
       "      )\n",
       "      (aoa_layer): Sequential(\n",
       "        (0): Linear(in_features=512, out_features=512, bias=True)\n",
       "        (1): GLU(dim=-1)\n",
       "      )\n",
       "      (residual_fn): ResidualConnection(\n",
       "        (dropout): Dropout(p=0.1, inplace=False)\n",
       "        (norm): LayerNorm((256,), eps=1e-05, elementwise_affine=True)\n",
       "      )\n",
       "      (out_linear): Linear(in_features=256, out_features=64, bias=True)\n",
       "    )\n",
       "    (2): LSTMAoA(\n",
       "      (out_dropout): Dropout(p=0.1, inplace=False)\n",
       "      (norm): LayerNorm((320,), eps=1e-05, elementwise_affine=True)\n",
       "      (att_lstm): LSTM(320, 256, num_layers=2)\n",
       "      (multi_head): MultiheadAttention(\n",
       "        (out_proj): NonDynamicallyQuantizableLinear(in_features=256, out_features=256, bias=True)\n",
       "      )\n",
       "      (aoa_layer): Sequential(\n",
       "        (0): Linear(in_features=512, out_features=512, bias=True)\n",
       "        (1): GLU(dim=-1)\n",
       "      )\n",
       "      (residual_fn): ResidualConnection(\n",
       "        (dropout): Dropout(p=0.1, inplace=False)\n",
       "        (norm): LayerNorm((256,), eps=1e-05, elementwise_affine=True)\n",
       "      )\n",
       "      (out_linear): Linear(in_features=256, out_features=128, bias=True)\n",
       "    )\n",
       "    (3): LSTMAoA(\n",
       "      (out_dropout): Dropout(p=0.1, inplace=False)\n",
       "      (norm): LayerNorm((384,), eps=1e-05, elementwise_affine=True)\n",
       "      (att_lstm): LSTM(384, 256, num_layers=2)\n",
       "      (multi_head): MultiheadAttention(\n",
       "        (out_proj): NonDynamicallyQuantizableLinear(in_features=256, out_features=256, bias=True)\n",
       "      )\n",
       "      (aoa_layer): Sequential(\n",
       "        (0): Linear(in_features=512, out_features=512, bias=True)\n",
       "        (1): GLU(dim=-1)\n",
       "      )\n",
       "      (residual_fn): ResidualConnection(\n",
       "        (dropout): Dropout(p=0.1, inplace=False)\n",
       "        (norm): LayerNorm((256,), eps=1e-05, elementwise_affine=True)\n",
       "      )\n",
       "      (out_linear): Linear(in_features=256, out_features=256, bias=True)\n",
       "    )\n",
       "  )\n",
       "  (down_blocks): ModuleList(\n",
       "    (0): Sequential(\n",
       "      (0): LSTMAoA(\n",
       "        (out_dropout): Dropout(p=0.1, inplace=False)\n",
       "        (norm): LayerNorm((512,), eps=1e-05, elementwise_affine=True)\n",
       "        (att_lstm): LSTM(512, 256, num_layers=2)\n",
       "        (multi_head): MultiheadAttention(\n",
       "          (out_proj): NonDynamicallyQuantizableLinear(in_features=256, out_features=256, bias=True)\n",
       "        )\n",
       "        (aoa_layer): Sequential(\n",
       "          (0): Linear(in_features=512, out_features=512, bias=True)\n",
       "          (1): GLU(dim=-1)\n",
       "        )\n",
       "        (residual_fn): ResidualConnection(\n",
       "          (dropout): Dropout(p=0.1, inplace=False)\n",
       "          (norm): LayerNorm((256,), eps=1e-05, elementwise_affine=True)\n",
       "        )\n",
       "        (out_linear): Linear(in_features=256, out_features=128, bias=True)\n",
       "      )\n",
       "    )\n",
       "    (1): Sequential(\n",
       "      (0): LSTMAoA(\n",
       "        (out_dropout): Dropout(p=0.1, inplace=False)\n",
       "        (norm): LayerNorm((384,), eps=1e-05, elementwise_affine=True)\n",
       "        (att_lstm): LSTM(384, 256, num_layers=2)\n",
       "        (multi_head): MultiheadAttention(\n",
       "          (out_proj): NonDynamicallyQuantizableLinear(in_features=256, out_features=256, bias=True)\n",
       "        )\n",
       "        (aoa_layer): Sequential(\n",
       "          (0): Linear(in_features=512, out_features=512, bias=True)\n",
       "          (1): GLU(dim=-1)\n",
       "        )\n",
       "        (residual_fn): ResidualConnection(\n",
       "          (dropout): Dropout(p=0.1, inplace=False)\n",
       "          (norm): LayerNorm((256,), eps=1e-05, elementwise_affine=True)\n",
       "        )\n",
       "        (out_linear): Linear(in_features=256, out_features=64, bias=True)\n",
       "      )\n",
       "    )\n",
       "    (2): Sequential(\n",
       "      (0): LSTMAoA(\n",
       "        (out_dropout): Dropout(p=0.1, inplace=False)\n",
       "        (norm): LayerNorm((320,), eps=1e-05, elementwise_affine=True)\n",
       "        (att_lstm): LSTM(320, 256, num_layers=2)\n",
       "        (multi_head): MultiheadAttention(\n",
       "          (out_proj): NonDynamicallyQuantizableLinear(in_features=256, out_features=256, bias=True)\n",
       "        )\n",
       "        (aoa_layer): Sequential(\n",
       "          (0): Linear(in_features=512, out_features=512, bias=True)\n",
       "          (1): GLU(dim=-1)\n",
       "        )\n",
       "        (residual_fn): ResidualConnection(\n",
       "          (dropout): Dropout(p=0.1, inplace=False)\n",
       "          (norm): LayerNorm((256,), eps=1e-05, elementwise_affine=True)\n",
       "        )\n",
       "        (out_linear): Linear(in_features=256, out_features=16, bias=True)\n",
       "      )\n",
       "    )\n",
       "  )\n",
       "  (prediction): MLP(\n",
       "    (layer_norm): LayerNorm((16,), eps=1e-05, elementwise_affine=True)\n",
       "    (dropout): Dropout(p=0.1, inplace=False)\n",
       "    (dense_layer): Sequential(\n",
       "      (0): Linear(in_features=16, out_features=32, bias=True)\n",
       "      (1): ReLU()\n",
       "      (2): Dropout(p=0.1, inplace=False)\n",
       "      (3): Linear(in_features=32, out_features=16, bias=True)\n",
       "      (4): ReLU()\n",
       "      (5): Dropout(p=0.1, inplace=False)\n",
       "      (6): Linear(in_features=16, out_features=4, bias=True)\n",
       "    )\n",
       "  )\n",
       ")"
      ]
     },
     "execution_count": 16,
     "metadata": {},
     "output_type": "execute_result"
    }
   ],
   "source": [
    "model.diffusion.net"
   ]
  }
 ],
 "metadata": {
  "kernelspec": {
   "display_name": "main_env",
   "language": "python",
   "name": "python3"
  },
  "language_info": {
   "codemirror_mode": {
    "name": "ipython",
    "version": 3
   },
   "file_extension": ".py",
   "mimetype": "text/x-python",
   "name": "python",
   "nbconvert_exporter": "python",
   "pygments_lexer": "ipython3",
   "version": "3.11.9"
  }
 },
 "nbformat": 4,
 "nbformat_minor": 2
}
