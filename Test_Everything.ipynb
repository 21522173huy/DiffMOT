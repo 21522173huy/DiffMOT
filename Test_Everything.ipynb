{
 "cells": [
  {
   "cell_type": "code",
   "execution_count": 19,
   "metadata": {},
   "outputs": [],
   "source": [
    "import argparse\n",
    "import yaml\n",
    "from easydict import EasyDict\n",
    "from diffmot import DiffMOT\n",
    "\n",
    "with open('configs/dancetrack.yaml') as f:\n",
    "    config = yaml.safe_load(f)\n",
    "\n",
    "class Args:\n",
    "    def __init__(self):\n",
    "        self.config = 'configs/dancetrack.yaml'\n",
    "        self.dataset = 'dancetrack'\n",
    "        self.skip_connection = False\n",
    "        self.network = 'New_ReUNet'\n",
    "        self.filters = [16, 32, 64, 128, 256]\n",
    "\n",
    "    def items(self):\n",
    "        return vars(self).items()\n",
    "    \n",
    "args = Args()\n",
    "\n",
    "for k, v in args.items():\n",
    "    config[k] = v\n",
    "\n",
    "config[\"exp_name\"] = args.config.split(\"/\")[-1].split(\".\")[0]\n",
    "config[\"dataset\"] = args.dataset\n",
    "config = EasyDict(config)"
   ]
  },
  {
   "cell_type": "code",
   "execution_count": 20,
   "metadata": {},
   "outputs": [
    {
     "name": "stdout",
     "output_type": "stream",
     "text": [
      "> Model built!\n",
      "Network Version:  New_ReUNet\n",
      "Network Params: 18650191\n"
     ]
    }
   ],
   "source": [
    "from models.autoencoder import D2MP\n",
    "from models.condition_embedding import History_motion_embedding\n",
    "\n",
    "encoder = History_motion_embedding()\n",
    "model = D2MP(config, encoder=encoder)\n",
    "\n",
    "params = sum(p.numel() for p in model.parameters() if p.requires_grad)\n",
    "print(\"> Model built!\")\n",
    "print('Network Version: ', config.network)\n",
    "print(f'Network Params: {params}')"
   ]
  },
  {
   "cell_type": "code",
   "execution_count": 4,
   "metadata": {},
   "outputs": [],
   "source": [
    "import torch\n",
    "\n",
    "batch = {\n",
    "    'condition' : torch.rand(16, 5, 8),\n",
    "    'delta_bbox' : torch.rand(16, 4),\n",
    "}"
   ]
  },
  {
   "cell_type": "code",
   "execution_count": 21,
   "metadata": {},
   "outputs": [],
   "source": [
    "loss = model(batch)"
   ]
  },
  {
   "cell_type": "code",
   "execution_count": 22,
   "metadata": {},
   "outputs": [
    {
     "data": {
      "text/plain": [
       "tensor(1.7654, grad_fn=<MeanBackward0>)"
      ]
     },
     "execution_count": 22,
     "metadata": {},
     "output_type": "execute_result"
    }
   ],
   "source": [
    "loss"
   ]
  },
  {
   "cell_type": "code",
   "execution_count": 18,
   "metadata": {},
   "outputs": [
    {
     "data": {
      "text/plain": [
       "[16, 64, 128, 256]"
      ]
     },
     "execution_count": 18,
     "metadata": {},
     "output_type": "execute_result"
    }
   ],
   "source": [
    "model.diffusion.net.filters"
   ]
  },
  {
   "cell_type": "code",
   "execution_count": 16,
   "metadata": {},
   "outputs": [
    {
     "data": {
      "text/plain": [
       "New_ReUNet(\n",
       "  (shared_ctx_mlp): MLP(\n",
       "    (layer_norm): LayerNorm((259,), eps=1e-05, elementwise_affine=True)\n",
       "    (dropout): Dropout(p=0.1, inplace=False)\n",
       "    (dense_layer): Sequential(\n",
       "      (0): Linear(in_features=259, out_features=518, bias=True)\n",
       "      (1): ReLU()\n",
       "      (2): Dropout(p=0.1, inplace=False)\n",
       "      (3): Linear(in_features=518, out_features=259, bias=True)\n",
       "      (4): ReLU()\n",
       "      (5): Dropout(p=0.1, inplace=False)\n",
       "      (6): Linear(in_features=259, out_features=256, bias=True)\n",
       "    )\n",
       "  )\n",
       "  (up_blocks): ModuleList(\n",
       "    (0): LSTMAoA(\n",
       "      (out_dropout): Dropout(p=0.1, inplace=False)\n",
       "      (norm): LayerNorm((260,), eps=1e-05, elementwise_affine=True)\n",
       "      (att_lstm): LSTM(260, 256, num_layers=2)\n",
       "      (multi_head): MultiheadAttention(\n",
       "        (out_proj): NonDynamicallyQuantizableLinear(in_features=256, out_features=256, bias=True)\n",
       "      )\n",
       "      (aoa_layer): Sequential(\n",
       "        (0): Linear(in_features=512, out_features=512, bias=True)\n",
       "        (1): GLU(dim=-1)\n",
       "      )\n",
       "      (residual_fn): ResidualConnection(\n",
       "        (dropout): Dropout(p=0.1, inplace=False)\n",
       "        (norm): LayerNorm((256,), eps=1e-05, elementwise_affine=True)\n",
       "      )\n",
       "      (out_linear): Linear(in_features=256, out_features=16, bias=True)\n",
       "    )\n",
       "    (1): LSTMAoA(\n",
       "      (out_dropout): Dropout(p=0.1, inplace=False)\n",
       "      (norm): LayerNorm((272,), eps=1e-05, elementwise_affine=True)\n",
       "      (att_lstm): LSTM(272, 256, num_layers=2)\n",
       "      (multi_head): MultiheadAttention(\n",
       "        (out_proj): NonDynamicallyQuantizableLinear(in_features=256, out_features=256, bias=True)\n",
       "      )\n",
       "      (aoa_layer): Sequential(\n",
       "        (0): Linear(in_features=512, out_features=512, bias=True)\n",
       "        (1): GLU(dim=-1)\n",
       "      )\n",
       "      (residual_fn): ResidualConnection(\n",
       "        (dropout): Dropout(p=0.1, inplace=False)\n",
       "        (norm): LayerNorm((256,), eps=1e-05, elementwise_affine=True)\n",
       "      )\n",
       "      (out_linear): Linear(in_features=256, out_features=64, bias=True)\n",
       "    )\n",
       "    (2): LSTMAoA(\n",
       "      (out_dropout): Dropout(p=0.1, inplace=False)\n",
       "      (norm): LayerNorm((320,), eps=1e-05, elementwise_affine=True)\n",
       "      (att_lstm): LSTM(320, 256, num_layers=2)\n",
       "      (multi_head): MultiheadAttention(\n",
       "        (out_proj): NonDynamicallyQuantizableLinear(in_features=256, out_features=256, bias=True)\n",
       "      )\n",
       "      (aoa_layer): Sequential(\n",
       "        (0): Linear(in_features=512, out_features=512, bias=True)\n",
       "        (1): GLU(dim=-1)\n",
       "      )\n",
       "      (residual_fn): ResidualConnection(\n",
       "        (dropout): Dropout(p=0.1, inplace=False)\n",
       "        (norm): LayerNorm((256,), eps=1e-05, elementwise_affine=True)\n",
       "      )\n",
       "      (out_linear): Linear(in_features=256, out_features=128, bias=True)\n",
       "    )\n",
       "    (3): LSTMAoA(\n",
       "      (out_dropout): Dropout(p=0.1, inplace=False)\n",
       "      (norm): LayerNorm((384,), eps=1e-05, elementwise_affine=True)\n",
       "      (att_lstm): LSTM(384, 256, num_layers=2)\n",
       "      (multi_head): MultiheadAttention(\n",
       "        (out_proj): NonDynamicallyQuantizableLinear(in_features=256, out_features=256, bias=True)\n",
       "      )\n",
       "      (aoa_layer): Sequential(\n",
       "        (0): Linear(in_features=512, out_features=512, bias=True)\n",
       "        (1): GLU(dim=-1)\n",
       "      )\n",
       "      (residual_fn): ResidualConnection(\n",
       "        (dropout): Dropout(p=0.1, inplace=False)\n",
       "        (norm): LayerNorm((256,), eps=1e-05, elementwise_affine=True)\n",
       "      )\n",
       "      (out_linear): Linear(in_features=256, out_features=256, bias=True)\n",
       "    )\n",
       "  )\n",
       "  (down_blocks): ModuleList(\n",
       "    (0): Sequential(\n",
       "      (0): LSTMAoA(\n",
       "        (out_dropout): Dropout(p=0.1, inplace=False)\n",
       "        (norm): LayerNorm((512,), eps=1e-05, elementwise_affine=True)\n",
       "        (att_lstm): LSTM(512, 256, num_layers=2)\n",
       "        (multi_head): MultiheadAttention(\n",
       "          (out_proj): NonDynamicallyQuantizableLinear(in_features=256, out_features=256, bias=True)\n",
       "        )\n",
       "        (aoa_layer): Sequential(\n",
       "          (0): Linear(in_features=512, out_features=512, bias=True)\n",
       "          (1): GLU(dim=-1)\n",
       "        )\n",
       "        (residual_fn): ResidualConnection(\n",
       "          (dropout): Dropout(p=0.1, inplace=False)\n",
       "          (norm): LayerNorm((256,), eps=1e-05, elementwise_affine=True)\n",
       "        )\n",
       "        (out_linear): Linear(in_features=256, out_features=128, bias=True)\n",
       "      )\n",
       "    )\n",
       "    (1): Sequential(\n",
       "      (0): LSTMAoA(\n",
       "        (out_dropout): Dropout(p=0.1, inplace=False)\n",
       "        (norm): LayerNorm((384,), eps=1e-05, elementwise_affine=True)\n",
       "        (att_lstm): LSTM(384, 256, num_layers=2)\n",
       "        (multi_head): MultiheadAttention(\n",
       "          (out_proj): NonDynamicallyQuantizableLinear(in_features=256, out_features=256, bias=True)\n",
       "        )\n",
       "        (aoa_layer): Sequential(\n",
       "          (0): Linear(in_features=512, out_features=512, bias=True)\n",
       "          (1): GLU(dim=-1)\n",
       "        )\n",
       "        (residual_fn): ResidualConnection(\n",
       "          (dropout): Dropout(p=0.1, inplace=False)\n",
       "          (norm): LayerNorm((256,), eps=1e-05, elementwise_affine=True)\n",
       "        )\n",
       "        (out_linear): Linear(in_features=256, out_features=64, bias=True)\n",
       "      )\n",
       "    )\n",
       "    (2): Sequential(\n",
       "      (0): LSTMAoA(\n",
       "        (out_dropout): Dropout(p=0.1, inplace=False)\n",
       "        (norm): LayerNorm((320,), eps=1e-05, elementwise_affine=True)\n",
       "        (att_lstm): LSTM(320, 256, num_layers=2)\n",
       "        (multi_head): MultiheadAttention(\n",
       "          (out_proj): NonDynamicallyQuantizableLinear(in_features=256, out_features=256, bias=True)\n",
       "        )\n",
       "        (aoa_layer): Sequential(\n",
       "          (0): Linear(in_features=512, out_features=512, bias=True)\n",
       "          (1): GLU(dim=-1)\n",
       "        )\n",
       "        (residual_fn): ResidualConnection(\n",
       "          (dropout): Dropout(p=0.1, inplace=False)\n",
       "          (norm): LayerNorm((256,), eps=1e-05, elementwise_affine=True)\n",
       "        )\n",
       "        (out_linear): Linear(in_features=256, out_features=16, bias=True)\n",
       "      )\n",
       "    )\n",
       "  )\n",
       "  (prediction): MLP(\n",
       "    (layer_norm): LayerNorm((16,), eps=1e-05, elementwise_affine=True)\n",
       "    (dropout): Dropout(p=0.1, inplace=False)\n",
       "    (dense_layer): Sequential(\n",
       "      (0): Linear(in_features=16, out_features=32, bias=True)\n",
       "      (1): ReLU()\n",
       "      (2): Dropout(p=0.1, inplace=False)\n",
       "      (3): Linear(in_features=32, out_features=16, bias=True)\n",
       "      (4): ReLU()\n",
       "      (5): Dropout(p=0.1, inplace=False)\n",
       "      (6): Linear(in_features=16, out_features=4, bias=True)\n",
       "    )\n",
       "  )\n",
       ")"
      ]
     },
     "execution_count": 16,
     "metadata": {},
     "output_type": "execute_result"
    }
   ],
   "source": [
    "model.diffusion.net"
   ]
  }
 ],
 "metadata": {
  "kernelspec": {
   "display_name": "main_env",
   "language": "python",
   "name": "python3"
  },
  "language_info": {
   "codemirror_mode": {
    "name": "ipython",
    "version": 3
   },
   "file_extension": ".py",
   "mimetype": "text/x-python",
   "name": "python",
   "nbconvert_exporter": "python",
   "pygments_lexer": "ipython3",
   "version": "3.11.9"
  }
 },
 "nbformat": 4,
 "nbformat_minor": 2
}
