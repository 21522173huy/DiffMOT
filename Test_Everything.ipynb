{
 "cells": [
  {
   "cell_type": "code",
   "execution_count": 4,
   "metadata": {},
   "outputs": [],
   "source": [
    "import argparse\n",
    "import yaml\n",
    "from easydict import EasyDict\n",
    "from diffmot import DiffMOT\n",
    "\n",
    "with open('configs/dancetrack.yaml') as f:\n",
    "    config = yaml.safe_load(f)\n",
    "\n",
    "class Args:\n",
    "    def __init__(self):\n",
    "        self.config = 'configs/dancetrack.yaml'\n",
    "        self.dataset = 'dancetrack'\n",
    "        self.skip_connection = False\n",
    "        self.network = 'ReUNet'\n",
    "\n",
    "    def items(self):\n",
    "        return vars(self).items()\n",
    "    \n",
    "args = Args()\n",
    "\n",
    "for k, v in args.items():\n",
    "    config[k] = v\n",
    "\n",
    "config[\"exp_name\"] = args.config.split(\"/\")[-1].split(\".\")[0]\n",
    "config[\"dataset\"] = args.dataset\n",
    "config = EasyDict(config)"
   ]
  },
  {
   "cell_type": "code",
   "execution_count": 5,
   "metadata": {},
   "outputs": [
    {
     "ename": "AttributeError",
     "evalue": "'EasyDict' object has no attribute 'add_linear'",
     "output_type": "error",
     "traceback": [
      "\u001b[1;31m---------------------------------------------------------------------------\u001b[0m",
      "\u001b[1;31mAttributeError\u001b[0m                            Traceback (most recent call last)",
      "Cell \u001b[1;32mIn[5], line 5\u001b[0m\n\u001b[0;32m      2\u001b[0m \u001b[38;5;28;01mfrom\u001b[39;00m \u001b[38;5;21;01mmodels\u001b[39;00m\u001b[38;5;21;01m.\u001b[39;00m\u001b[38;5;21;01mcondition_embedding\u001b[39;00m \u001b[38;5;28;01mimport\u001b[39;00m History_motion_embedding\n\u001b[0;32m      4\u001b[0m encoder \u001b[38;5;241m=\u001b[39m History_motion_embedding()\n\u001b[1;32m----> 5\u001b[0m model \u001b[38;5;241m=\u001b[39m \u001b[43mD2MP\u001b[49m\u001b[43m(\u001b[49m\u001b[43mconfig\u001b[49m\u001b[43m,\u001b[49m\u001b[43m \u001b[49m\u001b[43mencoder\u001b[49m\u001b[38;5;241;43m=\u001b[39;49m\u001b[43mencoder\u001b[49m\u001b[43m)\u001b[49m\n",
      "File \u001b[1;32md:\\DiffMOT\\models\\autoencoder.py:18\u001b[0m, in \u001b[0;36mD2MP.__init__\u001b[1;34m(self, config, encoder, device)\u001b[0m\n\u001b[0;32m     16\u001b[0m network \u001b[38;5;241m=\u001b[39m config\u001b[38;5;241m.\u001b[39mnetwork\n\u001b[0;32m     17\u001b[0m \u001b[38;5;28;01mif\u001b[39;00m network \u001b[38;5;241m==\u001b[39m \u001b[38;5;124m'\u001b[39m\u001b[38;5;124mReUNet\u001b[39m\u001b[38;5;124m'\u001b[39m:\n\u001b[1;32m---> 18\u001b[0m   net \u001b[38;5;241m=\u001b[39m ReUNet(num_layers \u001b[38;5;241m=\u001b[39m config\u001b[38;5;241m.\u001b[39mnum_layers , filters \u001b[38;5;241m=\u001b[39m config\u001b[38;5;241m.\u001b[39mfilters, add_linear \u001b[38;5;241m=\u001b[39m \u001b[43mconfig\u001b[49m\u001b[38;5;241;43m.\u001b[39;49m\u001b[43madd_linear\u001b[49m)\n\u001b[0;32m     19\u001b[0m \u001b[38;5;28;01melif\u001b[39;00m network \u001b[38;5;241m==\u001b[39m \u001b[38;5;124m'\u001b[39m\u001b[38;5;124mReUNet+++\u001b[39m\u001b[38;5;124m'\u001b[39m:\n\u001b[0;32m     20\u001b[0m   net \u001b[38;5;241m=\u001b[39m ReUNet3Plus(num_layers \u001b[38;5;241m=\u001b[39m config\u001b[38;5;241m.\u001b[39mnum_layers , filters \u001b[38;5;241m=\u001b[39m config\u001b[38;5;241m.\u001b[39mfilters, add_linear \u001b[38;5;241m=\u001b[39m config\u001b[38;5;241m.\u001b[39madd_linear)\n",
      "\u001b[1;31mAttributeError\u001b[0m: 'EasyDict' object has no attribute 'add_linear'"
     ]
    }
   ],
   "source": [
    "from models.autoencoder import D2MP\n",
    "from models.condition_embedding import History_motion_embedding\n",
    "\n",
    "encoder = History_motion_embedding()\n",
    "model = D2MP(config, encoder=encoder)"
   ]
  },
  {
   "cell_type": "code",
   "execution_count": null,
   "metadata": {},
   "outputs": [],
   "source": []
  }
 ],
 "metadata": {
  "kernelspec": {
   "display_name": "main_env",
   "language": "python",
   "name": "python3"
  },
  "language_info": {
   "codemirror_mode": {
    "name": "ipython",
    "version": 3
   },
   "file_extension": ".py",
   "mimetype": "text/x-python",
   "name": "python",
   "nbconvert_exporter": "python",
   "pygments_lexer": "ipython3",
   "version": "3.11.9"
  }
 },
 "nbformat": 4,
 "nbformat_minor": 2
}
